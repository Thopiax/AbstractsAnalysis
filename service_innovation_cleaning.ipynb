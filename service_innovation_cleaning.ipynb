{
 "cells": [
  {
   "cell_type": "markdown",
   "metadata": {},
   "source": [
    "# Data Cleaning - Service Innovation Dataset\n",
    "\n",
    "Author: Rafael Ballestiero"
   ]
  },
  {
   "cell_type": "code",
   "execution_count": 320,
   "metadata": {},
   "outputs": [],
   "source": [
    "import os, re\n",
    "import pickle as pkl\n",
    "import pandas as pd\n",
    "import numpy as np"
   ]
  },
  {
   "cell_type": "code",
   "execution_count": 332,
   "metadata": {},
   "outputs": [],
   "source": [
    "df = pd.read_csv(\"./data/service_innovation/raw.csv\", header=0).dropna(subset=[\"Abstract\"])"
   ]
  },
  {
   "cell_type": "code",
   "execution_count": 221,
   "metadata": {},
   "outputs": [
    {
     "name": "stdout",
     "output_type": "stream",
     "text": [
      "<class 'pandas.core.frame.DataFrame'>\n",
      "Int64Index: 301 entries, 0 to 301\n",
      "Data columns (total 3 columns):\n",
      " #   Column     Non-Null Count  Dtype \n",
      "---  ------     --------------  ----- \n",
      " 0   Year       301 non-null    int64 \n",
      " 1   Reference  301 non-null    object\n",
      " 2   Abstract   301 non-null    object\n",
      "dtypes: int64(1), object(2)\n",
      "memory usage: 9.4+ KB\n"
     ]
    }
   ],
   "source": [
    "df.info()"
   ]
  },
  {
   "cell_type": "markdown",
   "metadata": {},
   "source": [
    "## Drop Duplicates"
   ]
  },
  {
   "cell_type": "markdown",
   "metadata": {},
   "source": [
    "First, we drop all rows that are extact duplicates of each other."
   ]
  },
  {
   "cell_type": "code",
   "execution_count": 222,
   "metadata": {},
   "outputs": [],
   "source": [
    "df = df.drop_duplicates()"
   ]
  },
  {
   "cell_type": "code",
   "execution_count": 223,
   "metadata": {},
   "outputs": [],
   "source": [
    "assert ~df.duplicated(subset=\"Abstract\").any() or ~df.duplicated(subset=\"Reference\").any()"
   ]
  },
  {
   "cell_type": "markdown",
   "metadata": {},
   "source": [
    "As pointed out, there are some papers that are referenced twice with very slight variations"
   ]
  },
  {
   "cell_type": "code",
   "execution_count": 224,
   "metadata": {},
   "outputs": [],
   "source": [
    "duplicate_references = [\n",
    "    \"Tong, C., Nagarajan, M., & Cheng, Y. (2016). Operational impact of service innovations in \",  \n",
    "    \"Easton, F. F., & Pullman, M. E. (2001). Optimizing service attributes: The seller\\'s utility problem\", \n",
    "    \"Xue, M., Hitt, L. M., & Harker, P. T. (2007). Customer efficiency\",\n",
    "]"
   ]
  },
  {
   "cell_type": "code",
   "execution_count": 225,
   "metadata": {},
   "outputs": [],
   "source": [
    "duplicate_indices = []\n",
    "for ref in duplicate_references:\n",
    "    ref_indices = df[df[\"Reference\"].str.startswith(ref)].index\n",
    "    \n",
    "    if len(ref_indices) > 1:\n",
    "        duplicate_indices += ref_indices[1:].tolist()\n",
    "    \n",
    "df = df.drop(duplicate_indices).reset_index(drop=True)"
   ]
  },
  {
   "cell_type": "markdown",
   "metadata": {},
   "source": [
    "## Clean References\n",
    "\n",
    "Given that the title includes information about the content of the paper, we want to be able to parse the titles from the provided references. The variety of formatting in the references makes this task difficult, although through a mixture of regex and manual changes to references we are able to extract what is needed."
   ]
  },
  {
   "cell_type": "code",
   "execution_count": 243,
   "metadata": {},
   "outputs": [],
   "source": [
    "title_pattern = re.compile(u\"[^\\d]*\\([0-9]{4}\\)\\.?\\s*([^\\.]+\\.?).*\")\n",
    "\n",
    "titles = df.Reference.str.extract(title_pattern)[0]"
   ]
  },
  {
   "cell_type": "markdown",
   "metadata": {},
   "source": [
    "### Verify Titles\n",
    "\n",
    "In order to verify the titles that have been parsed, we first look at all parsed titles that contain any numbers. Although such title occurances could be valid, they may also indicate poor formatting."
   ]
  },
  {
   "cell_type": "code",
   "execution_count": 244,
   "metadata": {},
   "outputs": [
    {
     "data": {
      "text/plain": [
       "31     Switch to web 2-0 boosts business agility for ...\n",
       "71             Customer experience blueprint drives B2B.\n",
       "142    Leveraging smart specialisation strategies (RI...\n",
       "174    Diffusion dynamics of sustainable innovation-i...\n",
       "227    Developing a product-service system through a ...\n",
       "231    Management approaches for industry 4-0 - the o...\n",
       "247    Prosocial Compliance in P2P Lending: A Natural...\n",
       "278    Environmental benefits of internet-enabled C2C...\n",
       "Name: 0, dtype: object"
      ]
     },
     "execution_count": 244,
     "metadata": {},
     "output_type": "execute_result"
    }
   ],
   "source": [
    "titles[titles.str.contains(\"\\d\", regex=True)]"
   ]
  },
  {
   "cell_type": "code",
   "execution_count": 228,
   "metadata": {},
   "outputs": [],
   "source": [
    "# title before year\n",
    "df.loc[13, \"Reference\"] = \"(2002). Director's forum. Laboratory Equipment, 38(12), 8. Retrieved from http://ezproxy.insead.edu:80/login?url=https://search.ebscohost.com/login.aspx?direct=true&db=bth&AN=6395811&site=ehost-live\"\n",
    "\n",
    "# 2.0 cuts title short\n",
    "df.loc[31, \"Reference\"] = 'Mohamed, A. (2007). Switch to web 2-0 boosts business agility for internet services firm. Computer Weekly, , 12-12. Retrieved from http://ezproxy.insead.edu:80/login?url=https://search.ebscohost.com/login.aspx?direct=true&db=bth&AN=25040565&site=ehost-live'\n",
    "\n",
    "# title before year\n",
    "df.loc[33, \"Reference\"] = '(2007). Translucent green: Environmentally-friendly manufacturing processes are key concern of retailers and brands. Textile World, 157(6), 49-49. Retrieved from http://ezproxy.insead.edu:80/login?url=https://search.ebscohost.com/login.aspx?direct=true&db=bth&AN=27662701&site=ehost-live'\n",
    "\n",
    "# title before year\n",
    "df.loc[40, \"Reference\"] = '(2008). Spiegel expands use of yunique software. Textile World, 158(4), 56-56. Retrieved from http://ezproxy.insead.edu:80/login?url=https://search.ebscohost.com/login.aspx?direct=true&db=bth&AN=33767368&site=ehost-live'\n",
    "\n",
    "# title before year\n",
    "df.loc[49, \"Reference\"] = '(2009). Service experience and service design: Concepts and application in tourism SMEs. Managing Service Quality, 19(3), 332-349. doi:10.1108/09604520910955339 Retrieved from http://ezproxy.insead.edu:80/login?url=https://search.ebscohost.com/login.aspx?direct=true&db=bth&AN=39983391&site=ehost-live'\n",
    "\n",
    "# no period to finish title\n",
    "df.loc[126, \"Reference\"] = 'Comerio, M., Batini, C., Castelli, M., Grega, S., Rossetti, M., & Viscusi, G. (2015). Service portfolio management: A repository-based framework. doi:10.1016/j.jss.2015.01.055'\n",
    "\n",
    "# title before year\n",
    "df.loc[151, \"Reference\"] = \"(2016). How to create a 'lights out' customer experience. Ivey Business Journal, , 5-7. Retrieved from http://ezproxy.insead.edu:80/login?url=https://search.ebscohost.com/login.aspx?direct=true&db=bth&AN=113229191&site=ehost-live\"\n",
    "\n",
    "# no period to finish title\n",
    "df.loc[158, \"Reference\"] = 'Peng, K., & Lin, P. M. C. (2016). Social entrepreneurs: Innovating rural tourism through the activism of service science. doi:10.1108/IJCHM-12-2014-0611'\n",
    "\n",
    "# no period to finish title\n",
    "df.loc[208, \"Reference\"] = 'Woo, J. (2017). How Chinese commercial banks innovate: process and practice. Journal of Innovation Management, 5(2), 81-110.'\n",
    "\n",
    "# title before year\n",
    "df.loc[214, \"Reference\"] = '(2018). Achieving competitive advantage. Strategic Direction, 34(10), 25-27. doi:10.1108/SD-06-2018-0145 Retrieved from http://ezproxy.insead.edu:80/login?url=https://search.ebscohost.com/login.aspx?direct=true&db=bth&AN=132294917&site=ehost-live'\n",
    "\n",
    "# 4.0 cuts title short\n",
    "df.loc[231, \"Reference\"] = 'MOHELSKA, H., & SOKOLOVA, M. (2018). Management approaches for industry 4-0 - the organizational culture perspective. Technological & Economic Development of Economy, 24(6), 2225-2240. doi:10.3846/tede.2018.6397 Retrieved from http://ezproxy.insead.edu:80/login?url=https://search.ebscohost.com/login.aspx?direct=true&db=bth&AN=133233122&site=ehost-live'\n",
    "\n",
    "titles = df.Reference.str.extract(title_pattern)[0]"
   ]
  },
  {
   "cell_type": "markdown",
   "metadata": {},
   "source": [
    "### Store Cleaned df"
   ]
  },
  {
   "cell_type": "code",
   "execution_count": 273,
   "metadata": {},
   "outputs": [],
   "source": [
    "df.to_csv(\"./data/service_innovation/clean.csv\")"
   ]
  },
  {
   "cell_type": "markdown",
   "metadata": {},
   "source": [
    "## Preprocess Corpus"
   ]
  },
  {
   "cell_type": "code",
   "execution_count": 277,
   "metadata": {},
   "outputs": [],
   "source": [
    "from gensim.parsing import preprocessing\n",
    "import pattern.en as en"
   ]
  },
  {
   "cell_type": "markdown",
   "metadata": {},
   "source": [
    "### Remove Windows formatted punctuaction\n",
    "\n",
    "The raw csv was produced with a `cp1252` encoding which lead to mistmatches in punctuation."
   ]
  },
  {
   "cell_type": "code",
   "execution_count": 279,
   "metadata": {},
   "outputs": [],
   "source": [
    "cp1252_pattern = re.compile(u\"“|”|’|‘|—|–|–|\\?\")\n",
    "def strip_cp1252_punctuation(s):\n",
    "    return re.sub(cp1252_pattern, \" \", s)"
   ]
  },
  {
   "cell_type": "markdown",
   "metadata": {},
   "source": [
    "### Lemmatize\n",
    "\n",
    "We want to lemmatize the words in the abstracts to improve the clustering performance, while excluding the abbreviations that appear in them."
   ]
  },
  {
   "cell_type": "code",
   "execution_count": 333,
   "metadata": {},
   "outputs": [],
   "source": [
    "abbreviations = set([\"pss\", \"iot\", \"abs\", \"business\", \"exs\", \"ict\", \"npd\", \"bmi\", \"iot\", \"cem\", \"sst\", \"ic\", \"qos\", \"oi\", \"om\", \"psf\", \"ai\", \"bm\", \"bo\", \"mc\", \"mosp\", \"msd\", \"pssldm\", \"fcbpss\", \"ffe\", \"fmea\", \"fo\", \"iis\", \"sc\", \"sdl\", \"si\", \"sp\", \"vsm\", \"xe\", \"cad\", \"cdf\", \"clscs\", \"cmm\", \"cx\", \"ks\", \"odf\", \"sspss\", \"bma\", \"bpm\", \"bsc\", \"exs\", \"fof\", \"kibs\", \"lbd\", \"lo\", \"moss\", \"plm\", \"pnss\", \"prs\", \"qfd\", \"sem\", \"som\", \"sp\", \"acm\", \"adkar\", \"catwoe\", \"cc\", \"ces\", \"cis\", \"cit\", \"clv\", \"cxm\", \"dfsi\", \"dsic\", \"fepss\", \"fsqca\", \"ilp\", \"moa\", \"mosc\", \"ri\", \"rpn\", \"rrs\", \"rsp\", \"scm\", \"slr\", \"sna\", \"spesa\", \"spss\", \"ssm\", \"sta\", \"tr\", \"vo\", \"wips\"])\n",
    "\n",
    "with open(\"./data/service_innovation/abbreviations.pkl\", \"wb\") as abbfile:\n",
    "    pkl.dump(abbreviations, abbfile)"
   ]
  },
  {
   "cell_type": "code",
   "execution_count": 334,
   "metadata": {},
   "outputs": [],
   "source": [
    "def lemmatize(s):\n",
    "    return \" \".join([en.lemma(w) if w not in abbreviations else w for w in s.split()])"
   ]
  },
  {
   "cell_type": "markdown",
   "metadata": {},
   "source": [
    "### Common Terms and Abbreviations"
   ]
  },
  {
   "cell_type": "code",
   "execution_count": 287,
   "metadata": {},
   "outputs": [],
   "source": [
    "common_terms = [\"service\", \"research\", \"study\", \"paper\", \"result\", \"based\", \"literature\", \"article\", \"focus\"]\n",
    "def strip_common_terms(s):\n",
    "    return \" \".join([w for w in s.split() if w not in common_terms])"
   ]
  },
  {
   "cell_type": "markdown",
   "metadata": {},
   "source": [
    "### Synonyms"
   ]
  },
  {
   "cell_type": "code",
   "execution_count": 288,
   "metadata": {},
   "outputs": [],
   "source": [
    "synonyms = {\"servitization\": \"servitisation\", \"consumer\": \"customer\"}\n",
    "def standardize_synonyms(s):\n",
    "    return \" \".join([synonyms.get(w, w) for w in s.split()])"
   ]
  },
  {
   "cell_type": "markdown",
   "metadata": {},
   "source": [
    "### Apply Preprocessing\n",
    "\n",
    "We want to apply all the functions defined above, as well as some from the Gensim library, and store the result."
   ]
  },
  {
   "cell_type": "code",
   "execution_count": 325,
   "metadata": {},
   "outputs": [],
   "source": [
    "corpus = (titles + \" \" + df.Abstract)\n",
    "\n",
    "corpus = corpus.apply(preprocessing.preprocess_string, filters=[\n",
    "    lambda s: s.strip().lower(),\n",
    "    strip_cp1252_punctuation,\n",
    "    preprocessing.strip_punctuation, \n",
    "    preprocessing.strip_tags,\n",
    "    preprocessing.strip_multiple_whitespaces, \n",
    "    preprocessing.strip_numeric, \n",
    "    preprocessing.remove_stopwords, \n",
    "    preprocessing.strip_short,\n",
    "    lemmatize,\n",
    "    strip_common_terms,\n",
    "    standardize_synonyms\n",
    "]).apply(\" \".join)\n",
    "\n",
    "corpus.to_csv(\"./data/service_innovation/corpus.csv\", index=False)"
   ]
  }
 ],
 "metadata": {
  "kernelspec": {
   "display_name": "Python [conda env:nlp]",
   "language": "python",
   "name": "conda-env-nlp-py"
  },
  "language_info": {
   "codemirror_mode": {
    "name": "ipython",
    "version": 3
   },
   "file_extension": ".py",
   "mimetype": "text/x-python",
   "name": "python",
   "nbconvert_exporter": "python",
   "pygments_lexer": "ipython3",
   "version": "3.7.7"
  }
 },
 "nbformat": 4,
 "nbformat_minor": 4
}
